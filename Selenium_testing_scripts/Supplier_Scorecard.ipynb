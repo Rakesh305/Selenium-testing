{
 "cells": [
  {
   "cell_type": "code",
   "execution_count": 1,
   "id": "32decc87",
   "metadata": {},
   "outputs": [],
   "source": [
    "from helium import *\n",
    "import time\n",
    "import requests\n",
    "from bs4 import BeautifulSoup\n",
    "from check_functions.utils import *"
   ]
  },
  {
   "cell_type": "code",
   "execution_count": 2,
   "id": "aceeb843",
   "metadata": {},
   "outputs": [
    {
     "data": {
      "text/plain": [
       "<selenium.webdriver.chrome.webdriver.WebDriver (session=\"caa4cbcc325b12743a970860681c79c5\")>"
      ]
     },
     "execution_count": 2,
     "metadata": {},
     "output_type": "execute_result"
    }
   ],
   "source": [
    "start_chrome()"
   ]
  },
  {
   "cell_type": "code",
   "execution_count": 3,
   "id": "f714dfa0",
   "metadata": {},
   "outputs": [],
   "source": [
    "url = \"https://analyticsstudio-mlflows-dev.aas.dnb.net/#/webapps\""
   ]
  },
  {
   "cell_type": "markdown",
   "id": "9c2c2b47",
   "metadata": {},
   "source": [
    "# submit jobs"
   ]
  },
  {
   "cell_type": "code",
   "execution_count": 4,
   "id": "aa8172fe",
   "metadata": {},
   "outputs": [],
   "source": [
    "%run -i supplier_scorecard.py\n",
    "%run -i supplier_scorecard_config.py\n",
    "app = \"Supplier Scorecard\""
   ]
  },
  {
   "cell_type": "code",
   "execution_count": 48,
   "id": "935706fa",
   "metadata": {},
   "outputs": [
    {
     "name": "stdout",
     "output_type": "stream",
     "text": [
      "qabed_supplier_global_1 finished\n",
      "qabed_supplier_us_1 finished\n",
      "qabed_supplier_intl_1 finished\n",
      "qabed_supplier_fail_1 finished\n",
      "qabed_supplier_fail_2 finished\n",
      "qabed_supplier_fail_3 finished\n"
     ]
    }
   ],
   "source": [
    "for config in configs:\n",
    "    sc = Supplier_Scorecard(url, app, config)\n",
    "    sc.run(dryrun=False)"
   ]
  },
  {
   "cell_type": "code",
   "execution_count": null,
   "id": "635811d1",
   "metadata": {},
   "outputs": [],
   "source": []
  }
 ],
 "metadata": {
  "kernelspec": {
   "display_name": "Python 3 (ipykernel)",
   "language": "python",
   "name": "python3"
  },
  "language_info": {
   "codemirror_mode": {
    "name": "ipython",
    "version": 3
   },
   "file_extension": ".py",
   "mimetype": "text/x-python",
   "name": "python",
   "nbconvert_exporter": "python",
   "pygments_lexer": "ipython3",
   "version": "3.9.12"
  }
 },
 "nbformat": 4,
 "nbformat_minor": 5
}
